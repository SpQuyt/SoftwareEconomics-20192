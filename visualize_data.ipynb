{
  "cells": [
    {
      "cell_type": "markdown",
      "metadata": {
        "id": "Gpz8PkbAkSk-",
        "colab_type": "text"
      },
      "source": [
        "# Visualize SVM data"
      ]
    },
    {
      "cell_type": "code",
      "metadata": {
        "id": "PVNv9N6Mkd66",
        "colab_type": "code",
        "colab": {}
      },
      "source": [
        "from google.colab import drive\n",
        "drive.mount('/content/driver')"
      ],
      "execution_count": null,
      "outputs": []
    },
    {
      "cell_type": "code",
      "metadata": {
        "id": "RfwV3Xw1oAuW",
        "colab_type": "code",
        "colab": {}
      },
      "source": [
        "from glob import glob\n",
        "import pandas as pd\n",
        "import numpy as np\n",
        "import matplotlib.pyplot as plt\n",
        "%matplotlib inline"
      ],
      "execution_count": 87,
      "outputs": []
    },
    {
      "cell_type": "code",
      "metadata": {
        "id": "2a6iq_PBkzi1",
        "colab_type": "code",
        "colab": {}
      },
      "source": [
        "path_train = '/content/driver/My Drive/KTCNPM/data/train/*.csv'"
      ],
      "execution_count": 88,
      "outputs": []
    },
    {
      "cell_type": "code",
      "metadata": {
        "id": "WqYC5iHKr2L4",
        "colab_type": "code",
        "colab": {}
      },
      "source": [
        "def normalize_data(data):\n",
        "  # parse to float\n",
        "  data = data.astype(np.float)\n",
        "\n",
        "  # map to [0, 1] range\n",
        "  data = np.true_divide(data, data.max())\n",
        "\n",
        "  return data"
      ],
      "execution_count": 89,
      "outputs": []
    },
    {
      "cell_type": "code",
      "metadata": {
        "id": "g6SvvYhKnH2Q",
        "colab_type": "code",
        "colab": {}
      },
      "source": [
        "files = glob(path_train)\n",
        "files = sorted(files)\n",
        "print('Read {} files.\\n'.format(str(len(files))))\n",
        "for file in files:\n",
        "  file_name = str(file).split('/')[-1]\n",
        "  print('Reading file: {}'.format(file))\n",
        "  data = pd.read_csv(file)\n",
        "\n",
        "  print('Transforming ...')\n",
        "  data_at_real = data['AT'].values\n",
        "  data_at = normalize_data(data_at_real)\n",
        "  data_pv = normalize_data(data['PV'].values)\n",
        "  data_xt = normalize_data(data['XT'].values)\n",
        "  data_ac = normalize_data(data['AC'].values)\n",
        "  data_total_at = normalize_data(data['TOTAL_AT'].values)\n",
        "  data_total_pv = normalize_data(data['TOTAL_PV'].values)\n",
        "  data_total_ev = normalize_data(data['TOTAL_EV'].values)\n",
        "  data_total_ac = normalize_data(data['TOTAL_AC'].values)\n",
        "\n",
        "  print('Draw result ...')\n",
        "  plt.title(\"Comparision of {}\".format(file_name))\n",
        "  plt.xlabel(\"AT\")\n",
        "  plt.ylabel(\"Data\")\n",
        "  plt.plot(data_at_real, data_pv, '-o', color='red')\n",
        "  plt.plot(data_at_real, data_xt, '-o', color='blue')\n",
        "  plt.plot(data_at_real, data_ac, '-o', color='green')\n",
        "\n",
        "  plt.legend(('PV', 'XT', 'AC'), loc='lower right')\n",
        "  plt.show()\n",
        "\n"
      ],
      "execution_count": null,
      "outputs": []
    }
  ],
  "metadata": {
    "orig_nbformat": 2,
    "colab": {
      "name": "Copy of visualize_data.ipynb",
      "provenance": [],
      "collapsed_sections": []
    },
    "kernelspec": {
      "name": "python3",
      "display_name": "Python 3"
    }
  },
  "nbformat": 4,
  "nbformat_minor": 0
}